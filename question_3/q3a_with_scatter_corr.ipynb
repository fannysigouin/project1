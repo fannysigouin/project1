{
 "cells": [
  {
   "cell_type": "markdown",
   "id": "9407bceb",
   "metadata": {},
   "source": [
    "## Question 3a\n",
    "For each year: Can we identify trends or patterns in specific neighbourhoods (e.g. certain neighbourhoods seeing an increase or decrease in crime)?"
   ]
  },
  {
   "cell_type": "code",
   "execution_count": 148,
   "id": "b095e703",
   "metadata": {},
   "outputs": [],
   "source": [
    "# Dependencies\n",
    "import pandas as pd\n",
    "import matplotlib.pyplot as plt\n",
    "import numpy as np\n",
    "import scipy.stats as st\n",
    "from scipy.stats import linregress"
   ]
  },
  {
   "cell_type": "code",
   "execution_count": 2,
   "id": "90456cc6",
   "metadata": {},
   "outputs": [
    {
     "data": {
      "text/html": [
       "<div>\n",
       "<style scoped>\n",
       "    .dataframe tbody tr th:only-of-type {\n",
       "        vertical-align: middle;\n",
       "    }\n",
       "\n",
       "    .dataframe tbody tr th {\n",
       "        vertical-align: top;\n",
       "    }\n",
       "\n",
       "    .dataframe thead th {\n",
       "        text-align: right;\n",
       "    }\n",
       "</style>\n",
       "<table border=\"1\" class=\"dataframe\">\n",
       "  <thead>\n",
       "    <tr style=\"text-align: right;\">\n",
       "      <th></th>\n",
       "      <th>_id</th>\n",
       "      <th>EVENT_UNIQUE_ID</th>\n",
       "      <th>REPORT_DATE</th>\n",
       "      <th>OCC_DATE</th>\n",
       "      <th>REPORT_YEAR</th>\n",
       "      <th>REPORT_MONTH</th>\n",
       "      <th>REPORT_DAY</th>\n",
       "      <th>REPORT_DOY</th>\n",
       "      <th>REPORT_DOW</th>\n",
       "      <th>REPORT_HOUR</th>\n",
       "      <th>...</th>\n",
       "      <th>LOCATION_TYPE</th>\n",
       "      <th>PREMISES_TYPE</th>\n",
       "      <th>UCR_CODE</th>\n",
       "      <th>UCR_EXT</th>\n",
       "      <th>OFFENCE</th>\n",
       "      <th>MCI_CATEGORY</th>\n",
       "      <th>HOOD_158</th>\n",
       "      <th>NEIGHBOURHOOD_158</th>\n",
       "      <th>HOOD_140</th>\n",
       "      <th>NEIGHBOURHOOD_140</th>\n",
       "    </tr>\n",
       "  </thead>\n",
       "  <tbody>\n",
       "    <tr>\n",
       "      <th>0</th>\n",
       "      <td>134022</td>\n",
       "      <td>GO-20181532</td>\n",
       "      <td>2018-01-01</td>\n",
       "      <td>2018-01-01</td>\n",
       "      <td>2018</td>\n",
       "      <td>January</td>\n",
       "      <td>1</td>\n",
       "      <td>1</td>\n",
       "      <td>Monday</td>\n",
       "      <td>4.0</td>\n",
       "      <td>...</td>\n",
       "      <td>Other Commercial / Corporate Places (For Profi...</td>\n",
       "      <td>Commercial</td>\n",
       "      <td>1430</td>\n",
       "      <td>100</td>\n",
       "      <td>Assault</td>\n",
       "      <td>Assault</td>\n",
       "      <td>168</td>\n",
       "      <td>Downtown Yonge East</td>\n",
       "      <td>75</td>\n",
       "      <td>Church-Yonge Corridor (75)</td>\n",
       "    </tr>\n",
       "    <tr>\n",
       "      <th>1</th>\n",
       "      <td>134023</td>\n",
       "      <td>GO-20184352</td>\n",
       "      <td>2018-01-01</td>\n",
       "      <td>2018-01-01</td>\n",
       "      <td>2018</td>\n",
       "      <td>January</td>\n",
       "      <td>1</td>\n",
       "      <td>1</td>\n",
       "      <td>Monday</td>\n",
       "      <td>18.0</td>\n",
       "      <td>...</td>\n",
       "      <td>Apartment (Rooming House, Condo)</td>\n",
       "      <td>Apartment</td>\n",
       "      <td>1430</td>\n",
       "      <td>100</td>\n",
       "      <td>Assault</td>\n",
       "      <td>Assault</td>\n",
       "      <td>150</td>\n",
       "      <td>Fenside-Parkwoods</td>\n",
       "      <td>45</td>\n",
       "      <td>Parkwoods-Donalda (45)</td>\n",
       "    </tr>\n",
       "    <tr>\n",
       "      <th>2</th>\n",
       "      <td>134024</td>\n",
       "      <td>GO-20184878</td>\n",
       "      <td>2018-01-01</td>\n",
       "      <td>2018-01-01</td>\n",
       "      <td>2018</td>\n",
       "      <td>January</td>\n",
       "      <td>1</td>\n",
       "      <td>1</td>\n",
       "      <td>Monday</td>\n",
       "      <td>21.0</td>\n",
       "      <td>...</td>\n",
       "      <td>Apartment (Rooming House, Condo)</td>\n",
       "      <td>Apartment</td>\n",
       "      <td>1420</td>\n",
       "      <td>100</td>\n",
       "      <td>Assault With Weapon</td>\n",
       "      <td>Assault</td>\n",
       "      <td>106</td>\n",
       "      <td>Humewood-Cedarvale</td>\n",
       "      <td>106</td>\n",
       "      <td>Humewood-Cedarvale (106)</td>\n",
       "    </tr>\n",
       "    <tr>\n",
       "      <th>3</th>\n",
       "      <td>134025</td>\n",
       "      <td>GO-20183609</td>\n",
       "      <td>2018-01-01</td>\n",
       "      <td>2018-01-01</td>\n",
       "      <td>2018</td>\n",
       "      <td>January</td>\n",
       "      <td>1</td>\n",
       "      <td>1</td>\n",
       "      <td>Monday</td>\n",
       "      <td>15.0</td>\n",
       "      <td>...</td>\n",
       "      <td>Streets, Roads, Highways (Bicycle Path, Privat...</td>\n",
       "      <td>Outside</td>\n",
       "      <td>2130</td>\n",
       "      <td>210</td>\n",
       "      <td>Theft Over</td>\n",
       "      <td>Theft Over</td>\n",
       "      <td>95</td>\n",
       "      <td>Annex</td>\n",
       "      <td>95</td>\n",
       "      <td>Annex (95)</td>\n",
       "    </tr>\n",
       "    <tr>\n",
       "      <th>4</th>\n",
       "      <td>134026</td>\n",
       "      <td>GO-20184674</td>\n",
       "      <td>2018-01-01</td>\n",
       "      <td>2018-01-01</td>\n",
       "      <td>2018</td>\n",
       "      <td>January</td>\n",
       "      <td>1</td>\n",
       "      <td>1</td>\n",
       "      <td>Monday</td>\n",
       "      <td>20.0</td>\n",
       "      <td>...</td>\n",
       "      <td>Convenience Stores</td>\n",
       "      <td>Commercial</td>\n",
       "      <td>1610</td>\n",
       "      <td>210</td>\n",
       "      <td>Robbery - Business</td>\n",
       "      <td>Robbery</td>\n",
       "      <td>123</td>\n",
       "      <td>Cliffcrest</td>\n",
       "      <td>123</td>\n",
       "      <td>Cliffcrest (123)</td>\n",
       "    </tr>\n",
       "  </tbody>\n",
       "</table>\n",
       "<p>5 rows × 27 columns</p>\n",
       "</div>"
      ],
      "text/plain": [
       "      _id EVENT_UNIQUE_ID REPORT_DATE    OCC_DATE  REPORT_YEAR REPORT_MONTH  \\\n",
       "0  134022     GO-20181532  2018-01-01  2018-01-01         2018      January   \n",
       "1  134023     GO-20184352  2018-01-01  2018-01-01         2018      January   \n",
       "2  134024     GO-20184878  2018-01-01  2018-01-01         2018      January   \n",
       "3  134025     GO-20183609  2018-01-01  2018-01-01         2018      January   \n",
       "4  134026     GO-20184674  2018-01-01  2018-01-01         2018      January   \n",
       "\n",
       "   REPORT_DAY  REPORT_DOY  REPORT_DOW  REPORT_HOUR  ...  \\\n",
       "0           1           1  Monday              4.0  ...   \n",
       "1           1           1  Monday             18.0  ...   \n",
       "2           1           1  Monday             21.0  ...   \n",
       "3           1           1  Monday             15.0  ...   \n",
       "4           1           1  Monday             20.0  ...   \n",
       "\n",
       "                                       LOCATION_TYPE PREMISES_TYPE  UCR_CODE  \\\n",
       "0  Other Commercial / Corporate Places (For Profi...    Commercial      1430   \n",
       "1                   Apartment (Rooming House, Condo)     Apartment      1430   \n",
       "2                   Apartment (Rooming House, Condo)     Apartment      1420   \n",
       "3  Streets, Roads, Highways (Bicycle Path, Privat...       Outside      2130   \n",
       "4                                 Convenience Stores    Commercial      1610   \n",
       "\n",
       "   UCR_EXT              OFFENCE  MCI_CATEGORY HOOD_158    NEIGHBOURHOOD_158  \\\n",
       "0      100              Assault       Assault      168  Downtown Yonge East   \n",
       "1      100              Assault       Assault      150    Fenside-Parkwoods   \n",
       "2      100  Assault With Weapon       Assault      106   Humewood-Cedarvale   \n",
       "3      210           Theft Over    Theft Over       95                Annex   \n",
       "4      210   Robbery - Business       Robbery      123           Cliffcrest   \n",
       "\n",
       "  HOOD_140           NEIGHBOURHOOD_140  \n",
       "0       75  Church-Yonge Corridor (75)  \n",
       "1       45      Parkwoods-Donalda (45)  \n",
       "2      106    Humewood-Cedarvale (106)  \n",
       "3       95                  Annex (95)  \n",
       "4      123            Cliffcrest (123)  \n",
       "\n",
       "[5 rows x 27 columns]"
      ]
     },
     "execution_count": 2,
     "metadata": {},
     "output_type": "execute_result"
    }
   ],
   "source": [
    "# Read in CSV as a DataFrame and inspect\n",
    "mci_all = pd.read_csv('resources/mci_no_duplicates_2018_20_22.csv')\n",
    "mci_all.head()"
   ]
  },
  {
   "cell_type": "code",
   "execution_count": 3,
   "id": "f87f5f5e",
   "metadata": {},
   "outputs": [
    {
     "data": {
      "text/html": [
       "<div>\n",
       "<style scoped>\n",
       "    .dataframe tbody tr th:only-of-type {\n",
       "        vertical-align: middle;\n",
       "    }\n",
       "\n",
       "    .dataframe tbody tr th {\n",
       "        vertical-align: top;\n",
       "    }\n",
       "\n",
       "    .dataframe thead th {\n",
       "        text-align: right;\n",
       "    }\n",
       "</style>\n",
       "<table border=\"1\" class=\"dataframe\">\n",
       "  <thead>\n",
       "    <tr style=\"text-align: right;\">\n",
       "      <th></th>\n",
       "      <th>EVENT_UNIQUE_ID</th>\n",
       "      <th>REPORT_DATE</th>\n",
       "      <th>OCC_DATE</th>\n",
       "      <th>OCC_MONTH</th>\n",
       "      <th>OCC_YEAR</th>\n",
       "      <th>LOCATION_TYPE</th>\n",
       "      <th>PREMISES_TYPE</th>\n",
       "      <th>OFFENCE</th>\n",
       "      <th>MCI_CATEGORY</th>\n",
       "      <th>HOOD_158</th>\n",
       "      <th>NEIGHBOURHOOD_158</th>\n",
       "    </tr>\n",
       "  </thead>\n",
       "  <tbody>\n",
       "    <tr>\n",
       "      <th>0</th>\n",
       "      <td>GO-20181532</td>\n",
       "      <td>2018-01-01</td>\n",
       "      <td>2018-01-01</td>\n",
       "      <td>January</td>\n",
       "      <td>2018.0</td>\n",
       "      <td>Other Commercial / Corporate Places (For Profi...</td>\n",
       "      <td>Commercial</td>\n",
       "      <td>Assault</td>\n",
       "      <td>Assault</td>\n",
       "      <td>168</td>\n",
       "      <td>Downtown Yonge East</td>\n",
       "    </tr>\n",
       "    <tr>\n",
       "      <th>1</th>\n",
       "      <td>GO-20184352</td>\n",
       "      <td>2018-01-01</td>\n",
       "      <td>2018-01-01</td>\n",
       "      <td>January</td>\n",
       "      <td>2018.0</td>\n",
       "      <td>Apartment (Rooming House, Condo)</td>\n",
       "      <td>Apartment</td>\n",
       "      <td>Assault</td>\n",
       "      <td>Assault</td>\n",
       "      <td>150</td>\n",
       "      <td>Fenside-Parkwoods</td>\n",
       "    </tr>\n",
       "    <tr>\n",
       "      <th>2</th>\n",
       "      <td>GO-20184878</td>\n",
       "      <td>2018-01-01</td>\n",
       "      <td>2018-01-01</td>\n",
       "      <td>January</td>\n",
       "      <td>2018.0</td>\n",
       "      <td>Apartment (Rooming House, Condo)</td>\n",
       "      <td>Apartment</td>\n",
       "      <td>Assault With Weapon</td>\n",
       "      <td>Assault</td>\n",
       "      <td>106</td>\n",
       "      <td>Humewood-Cedarvale</td>\n",
       "    </tr>\n",
       "    <tr>\n",
       "      <th>3</th>\n",
       "      <td>GO-20183609</td>\n",
       "      <td>2018-01-01</td>\n",
       "      <td>2018-01-01</td>\n",
       "      <td>January</td>\n",
       "      <td>2018.0</td>\n",
       "      <td>Streets, Roads, Highways (Bicycle Path, Privat...</td>\n",
       "      <td>Outside</td>\n",
       "      <td>Theft Over</td>\n",
       "      <td>Theft Over</td>\n",
       "      <td>95</td>\n",
       "      <td>Annex</td>\n",
       "    </tr>\n",
       "    <tr>\n",
       "      <th>4</th>\n",
       "      <td>GO-20184674</td>\n",
       "      <td>2018-01-01</td>\n",
       "      <td>2018-01-01</td>\n",
       "      <td>January</td>\n",
       "      <td>2018.0</td>\n",
       "      <td>Convenience Stores</td>\n",
       "      <td>Commercial</td>\n",
       "      <td>Robbery - Business</td>\n",
       "      <td>Robbery</td>\n",
       "      <td>123</td>\n",
       "      <td>Cliffcrest</td>\n",
       "    </tr>\n",
       "  </tbody>\n",
       "</table>\n",
       "</div>"
      ],
      "text/plain": [
       "  EVENT_UNIQUE_ID REPORT_DATE    OCC_DATE OCC_MONTH  OCC_YEAR  \\\n",
       "0     GO-20181532  2018-01-01  2018-01-01   January    2018.0   \n",
       "1     GO-20184352  2018-01-01  2018-01-01   January    2018.0   \n",
       "2     GO-20184878  2018-01-01  2018-01-01   January    2018.0   \n",
       "3     GO-20183609  2018-01-01  2018-01-01   January    2018.0   \n",
       "4     GO-20184674  2018-01-01  2018-01-01   January    2018.0   \n",
       "\n",
       "                                       LOCATION_TYPE PREMISES_TYPE  \\\n",
       "0  Other Commercial / Corporate Places (For Profi...    Commercial   \n",
       "1                   Apartment (Rooming House, Condo)     Apartment   \n",
       "2                   Apartment (Rooming House, Condo)     Apartment   \n",
       "3  Streets, Roads, Highways (Bicycle Path, Privat...       Outside   \n",
       "4                                 Convenience Stores    Commercial   \n",
       "\n",
       "               OFFENCE MCI_CATEGORY HOOD_158    NEIGHBOURHOOD_158  \n",
       "0              Assault      Assault      168  Downtown Yonge East  \n",
       "1              Assault      Assault      150    Fenside-Parkwoods  \n",
       "2  Assault With Weapon      Assault      106   Humewood-Cedarvale  \n",
       "3           Theft Over   Theft Over       95                Annex  \n",
       "4   Robbery - Business      Robbery      123           Cliffcrest  "
      ]
     },
     "execution_count": 3,
     "metadata": {},
     "output_type": "execute_result"
    }
   ],
   "source": [
    "#Drop unncessary rows\n",
    "mci_columns = mci_all[['EVENT_UNIQUE_ID', 'REPORT_DATE', 'OCC_DATE', 'OCC_MONTH', 'OCC_YEAR', 'LOCATION_TYPE', 'PREMISES_TYPE', 'OFFENCE', 'MCI_CATEGORY', 'HOOD_158', 'NEIGHBOURHOOD_158']]\n",
    "mci_columns.head()"
   ]
  },
  {
   "cell_type": "code",
   "execution_count": 4,
   "id": "df1e2dee",
   "metadata": {},
   "outputs": [
    {
     "data": {
      "text/plain": [
       "EVENT_UNIQUE_ID       object\n",
       "REPORT_DATE           object\n",
       "OCC_DATE              object\n",
       "OCC_MONTH             object\n",
       "OCC_YEAR             float64\n",
       "LOCATION_TYPE         object\n",
       "PREMISES_TYPE         object\n",
       "OFFENCE               object\n",
       "MCI_CATEGORY          object\n",
       "HOOD_158              object\n",
       "NEIGHBOURHOOD_158     object\n",
       "dtype: object"
      ]
     },
     "execution_count": 4,
     "metadata": {},
     "output_type": "execute_result"
    }
   ],
   "source": [
    "#Check dataframe dtypes\n",
    "mci_columns.dtypes"
   ]
  },
  {
   "cell_type": "code",
   "execution_count": 5,
   "id": "0e194451",
   "metadata": {},
   "outputs": [
    {
     "name": "stderr",
     "output_type": "stream",
     "text": [
      "/var/folders/m2/ysnn55010957_py0m5n5dds40000gn/T/ipykernel_46906/3081604221.py:2: SettingWithCopyWarning: \n",
      "A value is trying to be set on a copy of a slice from a DataFrame.\n",
      "Try using .loc[row_indexer,col_indexer] = value instead\n",
      "\n",
      "See the caveats in the documentation: https://pandas.pydata.org/pandas-docs/stable/user_guide/indexing.html#returning-a-view-versus-a-copy\n",
      "  mci_columns['OCC_YEAR'] = mci_columns['OCC_YEAR'].astype('int64')\n"
     ]
    },
    {
     "data": {
      "text/plain": [
       "EVENT_UNIQUE_ID      object\n",
       "REPORT_DATE          object\n",
       "OCC_DATE             object\n",
       "OCC_MONTH            object\n",
       "OCC_YEAR              int64\n",
       "LOCATION_TYPE        object\n",
       "PREMISES_TYPE        object\n",
       "OFFENCE              object\n",
       "MCI_CATEGORY         object\n",
       "HOOD_158             object\n",
       "NEIGHBOURHOOD_158    object\n",
       "dtype: object"
      ]
     },
     "execution_count": 5,
     "metadata": {},
     "output_type": "execute_result"
    }
   ],
   "source": [
    "#Convert OCC_YEAR column from dtype float64 to int64 then check dtypes again\n",
    "mci_columns['OCC_YEAR'] = mci_columns['OCC_YEAR'].astype('int64')\n",
    "mci_columns.dtypes"
   ]
  },
  {
   "cell_type": "code",
   "execution_count": 6,
   "id": "21049e0c",
   "metadata": {},
   "outputs": [
    {
     "data": {
      "text/plain": [
       "EVENT_UNIQUE_ID      104454\n",
       "REPORT_DATE          104454\n",
       "OCC_DATE             104454\n",
       "OCC_MONTH            104454\n",
       "OCC_YEAR             104454\n",
       "LOCATION_TYPE        104454\n",
       "PREMISES_TYPE        104454\n",
       "OFFENCE              104454\n",
       "MCI_CATEGORY         104454\n",
       "HOOD_158             104454\n",
       "NEIGHBOURHOOD_158    104454\n",
       "dtype: int64"
      ]
     },
     "execution_count": 6,
     "metadata": {},
     "output_type": "execute_result"
    }
   ],
   "source": [
    "#Check for any null values\n",
    "mci_columns.count()"
   ]
  },
  {
   "cell_type": "code",
   "execution_count": 7,
   "id": "7d8b6dfa",
   "metadata": {},
   "outputs": [],
   "source": [
    "#Separate dataframe into individual dataframes for each year (2018, 2020 and 2022)\n",
    "mci_2018 = mci_columns.loc[mci_columns['OCC_YEAR'] == 2018]\n",
    "mci_2020 = mci_columns.loc[mci_columns['OCC_YEAR'] == 2020]\n",
    "mci_2022 = mci_columns.loc[mci_columns['OCC_YEAR'] == 2022]"
   ]
  },
  {
   "cell_type": "markdown",
   "id": "3082cb61",
   "metadata": {},
   "source": [
    "## 2018"
   ]
  },
  {
   "cell_type": "code",
   "execution_count": 8,
   "id": "694834aa",
   "metadata": {},
   "outputs": [
    {
     "data": {
      "text/html": [
       "<div>\n",
       "<style scoped>\n",
       "    .dataframe tbody tr th:only-of-type {\n",
       "        vertical-align: middle;\n",
       "    }\n",
       "\n",
       "    .dataframe tbody tr th {\n",
       "        vertical-align: top;\n",
       "    }\n",
       "\n",
       "    .dataframe thead th {\n",
       "        text-align: right;\n",
       "    }\n",
       "</style>\n",
       "<table border=\"1\" class=\"dataframe\">\n",
       "  <thead>\n",
       "    <tr style=\"text-align: right;\">\n",
       "      <th></th>\n",
       "      <th>EVENT_UNIQUE_ID</th>\n",
       "      <th>REPORT_DATE</th>\n",
       "      <th>OCC_DATE</th>\n",
       "      <th>OCC_MONTH</th>\n",
       "      <th>OCC_YEAR</th>\n",
       "      <th>LOCATION_TYPE</th>\n",
       "      <th>PREMISES_TYPE</th>\n",
       "      <th>OFFENCE</th>\n",
       "      <th>MCI_CATEGORY</th>\n",
       "      <th>HOOD_158</th>\n",
       "      <th>NEIGHBOURHOOD_158</th>\n",
       "    </tr>\n",
       "  </thead>\n",
       "  <tbody>\n",
       "    <tr>\n",
       "      <th>0</th>\n",
       "      <td>GO-20181532</td>\n",
       "      <td>2018-01-01</td>\n",
       "      <td>2018-01-01</td>\n",
       "      <td>January</td>\n",
       "      <td>2018</td>\n",
       "      <td>Other Commercial / Corporate Places (For Profi...</td>\n",
       "      <td>Commercial</td>\n",
       "      <td>Assault</td>\n",
       "      <td>Assault</td>\n",
       "      <td>168</td>\n",
       "      <td>Downtown Yonge East</td>\n",
       "    </tr>\n",
       "    <tr>\n",
       "      <th>1</th>\n",
       "      <td>GO-20184352</td>\n",
       "      <td>2018-01-01</td>\n",
       "      <td>2018-01-01</td>\n",
       "      <td>January</td>\n",
       "      <td>2018</td>\n",
       "      <td>Apartment (Rooming House, Condo)</td>\n",
       "      <td>Apartment</td>\n",
       "      <td>Assault</td>\n",
       "      <td>Assault</td>\n",
       "      <td>150</td>\n",
       "      <td>Fenside-Parkwoods</td>\n",
       "    </tr>\n",
       "    <tr>\n",
       "      <th>2</th>\n",
       "      <td>GO-20184878</td>\n",
       "      <td>2018-01-01</td>\n",
       "      <td>2018-01-01</td>\n",
       "      <td>January</td>\n",
       "      <td>2018</td>\n",
       "      <td>Apartment (Rooming House, Condo)</td>\n",
       "      <td>Apartment</td>\n",
       "      <td>Assault With Weapon</td>\n",
       "      <td>Assault</td>\n",
       "      <td>106</td>\n",
       "      <td>Humewood-Cedarvale</td>\n",
       "    </tr>\n",
       "    <tr>\n",
       "      <th>3</th>\n",
       "      <td>GO-20183609</td>\n",
       "      <td>2018-01-01</td>\n",
       "      <td>2018-01-01</td>\n",
       "      <td>January</td>\n",
       "      <td>2018</td>\n",
       "      <td>Streets, Roads, Highways (Bicycle Path, Privat...</td>\n",
       "      <td>Outside</td>\n",
       "      <td>Theft Over</td>\n",
       "      <td>Theft Over</td>\n",
       "      <td>95</td>\n",
       "      <td>Annex</td>\n",
       "    </tr>\n",
       "    <tr>\n",
       "      <th>4</th>\n",
       "      <td>GO-20184674</td>\n",
       "      <td>2018-01-01</td>\n",
       "      <td>2018-01-01</td>\n",
       "      <td>January</td>\n",
       "      <td>2018</td>\n",
       "      <td>Convenience Stores</td>\n",
       "      <td>Commercial</td>\n",
       "      <td>Robbery - Business</td>\n",
       "      <td>Robbery</td>\n",
       "      <td>123</td>\n",
       "      <td>Cliffcrest</td>\n",
       "    </tr>\n",
       "  </tbody>\n",
       "</table>\n",
       "</div>"
      ],
      "text/plain": [
       "  EVENT_UNIQUE_ID REPORT_DATE    OCC_DATE OCC_MONTH  OCC_YEAR  \\\n",
       "0     GO-20181532  2018-01-01  2018-01-01   January      2018   \n",
       "1     GO-20184352  2018-01-01  2018-01-01   January      2018   \n",
       "2     GO-20184878  2018-01-01  2018-01-01   January      2018   \n",
       "3     GO-20183609  2018-01-01  2018-01-01   January      2018   \n",
       "4     GO-20184674  2018-01-01  2018-01-01   January      2018   \n",
       "\n",
       "                                       LOCATION_TYPE PREMISES_TYPE  \\\n",
       "0  Other Commercial / Corporate Places (For Profi...    Commercial   \n",
       "1                   Apartment (Rooming House, Condo)     Apartment   \n",
       "2                   Apartment (Rooming House, Condo)     Apartment   \n",
       "3  Streets, Roads, Highways (Bicycle Path, Privat...       Outside   \n",
       "4                                 Convenience Stores    Commercial   \n",
       "\n",
       "               OFFENCE MCI_CATEGORY HOOD_158    NEIGHBOURHOOD_158  \n",
       "0              Assault      Assault      168  Downtown Yonge East  \n",
       "1              Assault      Assault      150    Fenside-Parkwoods  \n",
       "2  Assault With Weapon      Assault      106   Humewood-Cedarvale  \n",
       "3           Theft Over   Theft Over       95                Annex  \n",
       "4   Robbery - Business      Robbery      123           Cliffcrest  "
      ]
     },
     "execution_count": 8,
     "metadata": {},
     "output_type": "execute_result"
    }
   ],
   "source": [
    "#Inspect dataframe for 2018\n",
    "mci_2018.head()"
   ]
  },
  {
   "cell_type": "code",
   "execution_count": 9,
   "id": "94aa6ef4",
   "metadata": {},
   "outputs": [
    {
     "data": {
      "text/plain": [
       "NEIGHBOURHOOD_158\n",
       "Agincourt North                 226\n",
       "Agincourt South-Malvern West    271\n",
       "Alderwood                        81\n",
       "Annex                           520\n",
       "Avondale                        105\n",
       "                               ... \n",
       "Yonge-Doris                     129\n",
       "Yonge-Eglinton                  115\n",
       "Yonge-St.Clair                   64\n",
       "York University Heights         640\n",
       "Yorkdale-Glen Park              324\n",
       "Name: EVENT_UNIQUE_ID, Length: 159, dtype: int64"
      ]
     },
     "execution_count": 9,
     "metadata": {},
     "output_type": "execute_result"
    }
   ],
   "source": [
    "#Check the sum of offences reported in each neighbourhood\n",
    "hood_offence_total = mci_2018.groupby('NEIGHBOURHOOD_158')['EVENT_UNIQUE_ID'].count()\n",
    "hood_offence_total "
   ]
  },
  {
   "cell_type": "code",
   "execution_count": 10,
   "id": "e3deffa5",
   "metadata": {},
   "outputs": [
    {
     "data": {
      "text/plain": [
       "NEIGHBOURHOOD_158\n",
       "West Humber-Clairville    1041\n",
       "Moss Park                  912\n",
       "Downtown Yonge East        778\n",
       "Kensington-Chinatown       750\n",
       "Yonge-Bay Corridor         741\n",
       "                          ... \n",
       "Guildwood                   64\n",
       "Yonge-St.Clair              64\n",
       "Woodbine-Lumsden            63\n",
       "Lambton Baby Point          54\n",
       "Maple Leaf                  53\n",
       "Name: EVENT_UNIQUE_ID, Length: 159, dtype: int64"
      ]
     },
     "execution_count": 10,
     "metadata": {},
     "output_type": "execute_result"
    }
   ],
   "source": [
    "#Sort by highest to lowest\n",
    "hood_sorted = hood_offence_total.sort_values(ascending = False)\n",
    "hood_sorted"
   ]
  },
  {
   "cell_type": "code",
   "execution_count": 11,
   "id": "fecc73c8",
   "metadata": {},
   "outputs": [
    {
     "data": {
      "text/plain": [
       "NEIGHBOURHOOD_158\n",
       "West Humber-Clairville    1041\n",
       "Moss Park                  912\n",
       "Downtown Yonge East        778\n",
       "Kensington-Chinatown       750\n",
       "Yonge-Bay Corridor         741\n",
       "Name: EVENT_UNIQUE_ID, dtype: int64"
      ]
     },
     "execution_count": 11,
     "metadata": {},
     "output_type": "execute_result"
    }
   ],
   "source": [
    "#Get top 5 and bottom 5 neighbourhoods by sum of offences\n",
    "top_5_hoods = hood_sorted.head()\n",
    "bottom_5_hoods = hood_sorted.tail()\n",
    "top_5_hoods"
   ]
  },
  {
   "cell_type": "code",
   "execution_count": 12,
   "id": "5dd6bef7",
   "metadata": {},
   "outputs": [
    {
     "data": {
      "text/plain": [
       "['Guildwood',\n",
       " 'Yonge-St.Clair',\n",
       " 'Woodbine-Lumsden',\n",
       " 'Lambton Baby Point',\n",
       " 'Maple Leaf']"
      ]
     },
     "execution_count": 12,
     "metadata": {},
     "output_type": "execute_result"
    }
   ],
   "source": [
    "#From the bottom 5 neighbourhood series, extract a list of each neighbourhood name using a for loop\n",
    "bottom_5_names = bottom_5_hoods.index\n",
    "bottom_neighbourhoods = []\n",
    "for index in range(0, len(bottom_5_names)):\n",
    "   bottom_neighbourhoods.append(bottom_5_names[index])\n",
    "bottom_neighbourhoods"
   ]
  },
  {
   "cell_type": "markdown",
   "id": "a2fba2a7",
   "metadata": {},
   "source": [
    "## Neighbourhoods with the highest number of offences\n",
    "We separated each of the top 5 neighbourhoods into their own dataframes to further analyze crime indicators on a neighbourhood level."
   ]
  },
  {
   "cell_type": "code",
   "execution_count": 203,
   "id": "17b83e00",
   "metadata": {},
   "outputs": [],
   "source": [
    "#Separate mci_2018 dataframe into 5 dataframes for each of the top 5 neighbourhoods\n",
    "whc_hood = mci_2018.loc[mci_2018['NEIGHBOURHOOD_158'] == 'West Humber-Clairville']\n",
    "mp_hood = mci_2018.loc[mci_2018['NEIGHBOURHOOD_158'] == 'Moss Park']\n",
    "dye_hood = mci_2018.loc[mci_2018['NEIGHBOURHOOD_158'] == 'Downtown Yonge East']\n",
    "kc_hood = mci_2018.loc[mci_2018['NEIGHBOURHOOD_158'] == 'Kensington-Chinatown']\n",
    "ybc_hood = mci_2018.loc[mci_2018['NEIGHBOURHOOD_158'] == 'Yonge-Bay Corridor']"
   ]
  },
  {
   "cell_type": "markdown",
   "id": "bdb29c6e",
   "metadata": {},
   "source": [
    "### Neighbourhood 1: West Humber-Clairville"
   ]
  },
  {
   "cell_type": "code",
   "execution_count": 204,
   "id": "5f256ed3",
   "metadata": {},
   "outputs": [
    {
     "data": {
      "text/html": [
       "<div>\n",
       "<style scoped>\n",
       "    .dataframe tbody tr th:only-of-type {\n",
       "        vertical-align: middle;\n",
       "    }\n",
       "\n",
       "    .dataframe tbody tr th {\n",
       "        vertical-align: top;\n",
       "    }\n",
       "\n",
       "    .dataframe thead th {\n",
       "        text-align: right;\n",
       "    }\n",
       "</style>\n",
       "<table border=\"1\" class=\"dataframe\">\n",
       "  <thead>\n",
       "    <tr style=\"text-align: right;\">\n",
       "      <th></th>\n",
       "      <th>EVENT_UNIQUE_ID</th>\n",
       "      <th>REPORT_DATE</th>\n",
       "      <th>OCC_DATE</th>\n",
       "      <th>OCC_MONTH</th>\n",
       "      <th>OCC_YEAR</th>\n",
       "      <th>LOCATION_TYPE</th>\n",
       "      <th>PREMISES_TYPE</th>\n",
       "      <th>OFFENCE</th>\n",
       "      <th>MCI_CATEGORY</th>\n",
       "      <th>HOOD_158</th>\n",
       "      <th>NEIGHBOURHOOD_158</th>\n",
       "    </tr>\n",
       "  </thead>\n",
       "  <tbody>\n",
       "    <tr>\n",
       "      <th>66</th>\n",
       "      <td>GO-20182608</td>\n",
       "      <td>2018-01-01</td>\n",
       "      <td>2018-01-01</td>\n",
       "      <td>January</td>\n",
       "      <td>2018</td>\n",
       "      <td>Parking Lots (Apt., Commercial Or Non-Commercial)</td>\n",
       "      <td>Outside</td>\n",
       "      <td>Theft Over</td>\n",
       "      <td>Theft Over</td>\n",
       "      <td>1</td>\n",
       "      <td>West Humber-Clairville</td>\n",
       "    </tr>\n",
       "    <tr>\n",
       "      <th>98</th>\n",
       "      <td>GO-20189906</td>\n",
       "      <td>2018-01-02</td>\n",
       "      <td>2018-01-02</td>\n",
       "      <td>January</td>\n",
       "      <td>2018</td>\n",
       "      <td>Streets, Roads, Highways (Bicycle Path, Privat...</td>\n",
       "      <td>Outside</td>\n",
       "      <td>Robbery - Mugging</td>\n",
       "      <td>Robbery</td>\n",
       "      <td>1</td>\n",
       "      <td>West Humber-Clairville</td>\n",
       "    </tr>\n",
       "    <tr>\n",
       "      <th>182</th>\n",
       "      <td>GO-201817980</td>\n",
       "      <td>2018-01-03</td>\n",
       "      <td>2018-01-03</td>\n",
       "      <td>January</td>\n",
       "      <td>2018</td>\n",
       "      <td>Other Commercial / Corporate Places (For Profi...</td>\n",
       "      <td>Commercial</td>\n",
       "      <td>Assault</td>\n",
       "      <td>Assault</td>\n",
       "      <td>1</td>\n",
       "      <td>West Humber-Clairville</td>\n",
       "    </tr>\n",
       "    <tr>\n",
       "      <th>221</th>\n",
       "      <td>GO-201813380</td>\n",
       "      <td>2018-01-03</td>\n",
       "      <td>2018-01-02</td>\n",
       "      <td>January</td>\n",
       "      <td>2018</td>\n",
       "      <td>Parking Lots (Apt., Commercial Or Non-Commercial)</td>\n",
       "      <td>Outside</td>\n",
       "      <td>Theft Of Motor Vehicle</td>\n",
       "      <td>Auto Theft</td>\n",
       "      <td>1</td>\n",
       "      <td>West Humber-Clairville</td>\n",
       "    </tr>\n",
       "    <tr>\n",
       "      <th>249</th>\n",
       "      <td>GO-201821144</td>\n",
       "      <td>2018-01-04</td>\n",
       "      <td>2018-01-04</td>\n",
       "      <td>January</td>\n",
       "      <td>2018</td>\n",
       "      <td>Apartment (Rooming House, Condo)</td>\n",
       "      <td>Apartment</td>\n",
       "      <td>Assault</td>\n",
       "      <td>Assault</td>\n",
       "      <td>1</td>\n",
       "      <td>West Humber-Clairville</td>\n",
       "    </tr>\n",
       "    <tr>\n",
       "      <th>...</th>\n",
       "      <td>...</td>\n",
       "      <td>...</td>\n",
       "      <td>...</td>\n",
       "      <td>...</td>\n",
       "      <td>...</td>\n",
       "      <td>...</td>\n",
       "      <td>...</td>\n",
       "      <td>...</td>\n",
       "      <td>...</td>\n",
       "      <td>...</td>\n",
       "      <td>...</td>\n",
       "    </tr>\n",
       "    <tr>\n",
       "      <th>34612</th>\n",
       "      <td>GO-20201985462</td>\n",
       "      <td>2020-10-14</td>\n",
       "      <td>2018-10-04</td>\n",
       "      <td>October</td>\n",
       "      <td>2018</td>\n",
       "      <td>Single Home, House (Attach Garage, Cottage, Mo...</td>\n",
       "      <td>House</td>\n",
       "      <td>Assault</td>\n",
       "      <td>Assault</td>\n",
       "      <td>1</td>\n",
       "      <td>West Humber-Clairville</td>\n",
       "    </tr>\n",
       "    <tr>\n",
       "      <th>34666</th>\n",
       "      <td>GO-2021597598</td>\n",
       "      <td>2021-04-01</td>\n",
       "      <td>2018-01-01</td>\n",
       "      <td>January</td>\n",
       "      <td>2018</td>\n",
       "      <td>Construction Site (Warehouse, Trailer, Shed)</td>\n",
       "      <td>Commercial</td>\n",
       "      <td>Theft Over</td>\n",
       "      <td>Theft Over</td>\n",
       "      <td>1</td>\n",
       "      <td>West Humber-Clairville</td>\n",
       "    </tr>\n",
       "    <tr>\n",
       "      <th>34705</th>\n",
       "      <td>GO-20211976842</td>\n",
       "      <td>2021-10-14</td>\n",
       "      <td>2018-01-01</td>\n",
       "      <td>January</td>\n",
       "      <td>2018</td>\n",
       "      <td>Single Home, House (Attach Garage, Cottage, Mo...</td>\n",
       "      <td>House</td>\n",
       "      <td>Assault With Weapon</td>\n",
       "      <td>Assault</td>\n",
       "      <td>1</td>\n",
       "      <td>West Humber-Clairville</td>\n",
       "    </tr>\n",
       "    <tr>\n",
       "      <th>34706</th>\n",
       "      <td>GO-20211976842</td>\n",
       "      <td>2021-10-14</td>\n",
       "      <td>2018-01-01</td>\n",
       "      <td>January</td>\n",
       "      <td>2018</td>\n",
       "      <td>Single Home, House (Attach Garage, Cottage, Mo...</td>\n",
       "      <td>House</td>\n",
       "      <td>Assault</td>\n",
       "      <td>Assault</td>\n",
       "      <td>1</td>\n",
       "      <td>West Humber-Clairville</td>\n",
       "    </tr>\n",
       "    <tr>\n",
       "      <th>34726</th>\n",
       "      <td>GO-2022354202</td>\n",
       "      <td>2022-02-23</td>\n",
       "      <td>2018-12-20</td>\n",
       "      <td>December</td>\n",
       "      <td>2018</td>\n",
       "      <td>Single Home, House (Attach Garage, Cottage, Mo...</td>\n",
       "      <td>House</td>\n",
       "      <td>Assault</td>\n",
       "      <td>Assault</td>\n",
       "      <td>1</td>\n",
       "      <td>West Humber-Clairville</td>\n",
       "    </tr>\n",
       "  </tbody>\n",
       "</table>\n",
       "<p>1041 rows × 11 columns</p>\n",
       "</div>"
      ],
      "text/plain": [
       "      EVENT_UNIQUE_ID REPORT_DATE    OCC_DATE OCC_MONTH  OCC_YEAR  \\\n",
       "66        GO-20182608  2018-01-01  2018-01-01   January      2018   \n",
       "98        GO-20189906  2018-01-02  2018-01-02   January      2018   \n",
       "182      GO-201817980  2018-01-03  2018-01-03   January      2018   \n",
       "221      GO-201813380  2018-01-03  2018-01-02   January      2018   \n",
       "249      GO-201821144  2018-01-04  2018-01-04   January      2018   \n",
       "...               ...         ...         ...       ...       ...   \n",
       "34612  GO-20201985462  2020-10-14  2018-10-04   October      2018   \n",
       "34666   GO-2021597598  2021-04-01  2018-01-01   January      2018   \n",
       "34705  GO-20211976842  2021-10-14  2018-01-01   January      2018   \n",
       "34706  GO-20211976842  2021-10-14  2018-01-01   January      2018   \n",
       "34726   GO-2022354202  2022-02-23  2018-12-20  December      2018   \n",
       "\n",
       "                                           LOCATION_TYPE PREMISES_TYPE  \\\n",
       "66     Parking Lots (Apt., Commercial Or Non-Commercial)       Outside   \n",
       "98     Streets, Roads, Highways (Bicycle Path, Privat...       Outside   \n",
       "182    Other Commercial / Corporate Places (For Profi...    Commercial   \n",
       "221    Parking Lots (Apt., Commercial Or Non-Commercial)       Outside   \n",
       "249                     Apartment (Rooming House, Condo)     Apartment   \n",
       "...                                                  ...           ...   \n",
       "34612  Single Home, House (Attach Garage, Cottage, Mo...         House   \n",
       "34666       Construction Site (Warehouse, Trailer, Shed)    Commercial   \n",
       "34705  Single Home, House (Attach Garage, Cottage, Mo...         House   \n",
       "34706  Single Home, House (Attach Garage, Cottage, Mo...         House   \n",
       "34726  Single Home, House (Attach Garage, Cottage, Mo...         House   \n",
       "\n",
       "                      OFFENCE MCI_CATEGORY HOOD_158       NEIGHBOURHOOD_158  \n",
       "66                 Theft Over   Theft Over        1  West Humber-Clairville  \n",
       "98          Robbery - Mugging      Robbery        1  West Humber-Clairville  \n",
       "182                   Assault      Assault        1  West Humber-Clairville  \n",
       "221    Theft Of Motor Vehicle   Auto Theft        1  West Humber-Clairville  \n",
       "249                   Assault      Assault        1  West Humber-Clairville  \n",
       "...                       ...          ...      ...                     ...  \n",
       "34612                 Assault      Assault        1  West Humber-Clairville  \n",
       "34666              Theft Over   Theft Over        1  West Humber-Clairville  \n",
       "34705     Assault With Weapon      Assault        1  West Humber-Clairville  \n",
       "34706                 Assault      Assault        1  West Humber-Clairville  \n",
       "34726                 Assault      Assault        1  West Humber-Clairville  \n",
       "\n",
       "[1041 rows x 11 columns]"
      ]
     },
     "execution_count": 204,
     "metadata": {},
     "output_type": "execute_result"
    }
   ],
   "source": [
    "#Inspect WHC dataframe\n",
    "whc_hood"
   ]
  },
  {
   "cell_type": "code",
   "execution_count": 185,
   "id": "c0efb5ad",
   "metadata": {},
   "outputs": [
    {
     "data": {
      "text/plain": [
       "MCI_CATEGORY\n",
       "Assault            300\n",
       "Auto Theft         436\n",
       "Break and Enter    170\n",
       "Robbery             81\n",
       "Theft Over          54\n",
       "Name: EVENT_UNIQUE_ID, dtype: int64"
      ]
     },
     "execution_count": 185,
     "metadata": {},
     "output_type": "execute_result"
    }
   ],
   "source": [
    "#Group the whc_hood dataframe by MCI_CATEGORY and get the count of offences per each category\n",
    "whc_mci_category = whc_hood.groupby('MCI_CATEGORY')['EVENT_UNIQUE_ID'].count()\n",
    "whc_mci_category"
   ]
  },
  {
   "cell_type": "code",
   "execution_count": 187,
   "id": "adb1c6ac",
   "metadata": {},
   "outputs": [
    {
     "data": {
      "image/png": "[encoded data removed]",
      "text/plain": [
       "<Figure size 640x480 with 1 Axes>"
      ]
     },
     "metadata": {},
     "output_type": "display_data"
    }
   ],
   "source": [
    "#Create a bar chart of MCI_CATEGORY for West Humber-Clairville\n",
    "whc_mci_category.sort_values(ascending = False).plot(kind = 'bar')\n",
    "plt.xticks(rotation = 45)\n",
    "plt.ylabel('Count')\n",
    "plt.xlabel('Offence Category')\n",
    "plt.title('Major Crime Indicators for West Humber-Clairville')\n",
    "plt.show()"
   ]
  },
  {
   "cell_type": "markdown",
   "id": "c70afafa",
   "metadata": {},
   "source": [
    "### West Humber-Clairville: Auto Theft and Assault\n",
    "We decided to compare the top crime in the WHB neighbourhood - auto theft - with the two other highest crimes (assault and break & enter) to identify any potential correlation\n"
   ]
  },
  {
   "cell_type": "code",
   "execution_count": 192,
   "id": "03a98a91",
   "metadata": {},
   "outputs": [],
   "source": [
    "#Separate the rows for MCI_CATEGORY assault and auto theft into their own dataframes \n",
    "whc_auto_theft = whc_hood.loc[whc_hood['MCI_CATEGORY'] == 'Auto Theft']\n",
    "whc_assault = whc_hood.loc[whc_hood['MCI_CATEGORY'] == 'Assault']\n",
    "\n",
    "#Reduce columns to only those needed ('OCC_MONTH' and 'MCI_CATEGORY')\n",
    "whc_auto_theft = whc_auto_theft[['OCC_MONTH', 'MCI_CATEGORY']]\n",
    "whc_assault = whc_assault[['OCC_MONTH', 'MCI_CATEGORY']]"
   ]
  },
  {
   "cell_type": "code",
   "execution_count": 189,
   "id": "4834c32d",
   "metadata": {},
   "outputs": [
    {
     "name": "stdout",
     "output_type": "stream",
     "text": [
      "whc_auto_theft is 436 records long. whc_assault is 300 records long. The difference is 136.\n"
     ]
    }
   ],
   "source": [
    "#Check the length of the new dataframes as they need to be the same length in order to compare them in a scatter plot\n",
    "whc_auto_theft_len = len(whc_auto_theft)\n",
    "whc_assault_len = len(whc_assault)        \n",
    "len_difference = whc_auto_theft_len - whc_assault_len\n",
    "print(f\"whc_auto_theft is {whc_auto_theft_len} records long. whc_assault is {whc_assault_len} records long. The difference is {len_difference}.\")"
   ]
  },
  {
   "cell_type": "code",
   "execution_count": 190,
   "id": "19fc9ab1",
   "metadata": {},
   "outputs": [],
   "source": [
    "#Code in above cell confirms that whc_auto_theft is longer than whc_assault so it needs to be reduced to the same length\n",
    "\n",
    "#Get a sample of whc_auto_theft that is the same length as whc_assault (300)\n",
    "whc_auto_theft_spl1 = whc_auto_theft.sample(300)\n",
    "\n",
    "#Order months in chronological order for both dataframes using pd.Categorical\n",
    "months = [\"January\", \"February\", \"March\", \"April\", \"May\", \"June\", \"July\", \"August\", \"September\", \"October\", \"November\", \"December\"]\n",
    "whc_auto_theft_spl1['OCC_MONTH'] = pd.Categorical(whc_auto_theft_spl1['OCC_MONTH'], categories = months, ordered = True)\n",
    "whc_assault['OCC_MONTH'] = pd.Categorical(whc_assault['OCC_MONTH'], categories = months, ordered = True)"
   ]
  },
  {
   "cell_type": "code",
   "execution_count": 191,
   "id": "391be2e5",
   "metadata": {},
   "outputs": [],
   "source": [
    "#Sort dataframes by offence month\n",
    "whc_auto_theft_spl1 = whc_auto_theft_spl1.sort_values(by = 'OCC_MONTH')\n",
    "whc_assault = whc_assault.sort_values(by = 'OCC_MONTH')"
   ]
  },
  {
   "cell_type": "code",
   "execution_count": 182,
   "id": "1fb76170",
   "metadata": {},
   "outputs": [
    {
     "data": {
      "image/png": "[encoded data removed]",
      "text/plain": [
       "<Figure size 640x480 with 1 Axes>"
      ]
     },
     "metadata": {},
     "output_type": "display_data"
    }
   ],
   "source": [
    "#Set x and y values for 2 scatter plots\n",
    "#Both plots will share the same x axis values (months of the year) with their respective y values for the value counts of the MCI categories\n",
    "x_values = months\n",
    "whc_auto_y_values = whc_auto_theft_spl1.groupby('OCC_MONTH')['MCI_CATEGORY'].value_counts()\n",
    "whc_aslt_y_values = whc_assault.groupby('OCC_MONTH')['MCI_CATEGORY'].value_counts()\n",
    "\n",
    "#Create scatter plots for both categories\n",
    "#Set labels for legend\n",
    "labels = ['Auto Theft', 'Assault']\n",
    "#Scatter plot for auto theft\n",
    "plt.scatter(x_values, whc_auto_y_values, color = 'r')\n",
    "#Scatter plot for assault\n",
    "plt.scatter(x_values, whc_aslt_y_values, color = 'b')\n",
    "#Set plot title, axis labels, legend, and x ticks\n",
    "plt.title('Auto Theft & Assault in West Humber-Clairville')\n",
    "plt.xlabel('Months')\n",
    "plt.ylabel('Counts')\n",
    "plt.legend(labels = labels)\n",
    "plt.xticks(rotation = 45)\n",
    "plt.show()"
   ]
  },
  {
   "cell_type": "code",
   "execution_count": 183,
   "id": "361ad3b8",
   "metadata": {},
   "outputs": [
    {
     "name": "stdout",
     "output_type": "stream",
     "text": [
      "The r-squared is: 0.008683533447684393\n"
     ]
    },
    {
     "data": {
      "image/png": "[encoded data removed]",
      "text/plain": [
       "<Figure size 640x480 with 1 Axes>"
      ]
     },
     "metadata": {},
     "output_type": "display_data"
    }
   ],
   "source": [
    "#Calculate the linear regression and correlation coefficient for both categories\n",
    "\n",
    "#Linear regression and line equation\n",
    "(slope, intercept, rvalue, pvalue, stderr) = linregress(whc_aslt_y_values, whc_auto_y_values)\n",
    "regress_values = whc_aslt_y_values * slope + intercept\n",
    "line_eq = \"y = \" + str(round(slope,2)) + \"x + \" + str(round(intercept,2))\n",
    "\n",
    "#Scatter plot for assault vs auto theft\n",
    "plt.scatter(whc_aslt_y_values, whc_auto_y_values, color = 'b')\n",
    "#Line plot for linear regression\n",
    "plt.plot(whc_aslt_y_values,regress_values,\"r-\")\n",
    "#Annotate plot to show line equation\n",
    "plt.annotate(line_eq,(25,20),fontsize=10,color=\"red\")\n",
    "#Set plot title and axis labels\n",
    "plt.ylabel('Auto Theft')\n",
    "plt.xlabel('Assault')\n",
    "plt.title('Auto Theft vs Assault in West Humber-Clairville')\n",
    "#Print correlation coefficient (r-value squared)\n",
    "print(f\"The r-squared is: {rvalue**2}\")\n",
    "plt.show()"
   ]
  },
  {
   "cell_type": "markdown",
   "id": "054b48de",
   "metadata": {},
   "source": [
    "Results: The correlation coefficient of auto theft vs assault in West Humber-Clairville is 0.044 which indicates that there is no correlation between the two types of offences."
   ]
  },
  {
   "cell_type": "markdown",
   "id": "41ac8784",
   "metadata": {},
   "source": [
    "## West Humber-Clairville: Auto Theft and Break & Enter"
   ]
  },
  {
   "cell_type": "code",
   "execution_count": 194,
   "id": "733ff8ca",
   "metadata": {},
   "outputs": [
    {
     "data": {
      "text/html": [
       "<div>\n",
       "<style scoped>\n",
       "    .dataframe tbody tr th:only-of-type {\n",
       "        vertical-align: middle;\n",
       "    }\n",
       "\n",
       "    .dataframe tbody tr th {\n",
       "        vertical-align: top;\n",
       "    }\n",
       "\n",
       "    .dataframe thead th {\n",
       "        text-align: right;\n",
       "    }\n",
       "</style>\n",
       "<table border=\"1\" class=\"dataframe\">\n",
       "  <thead>\n",
       "    <tr style=\"text-align: right;\">\n",
       "      <th></th>\n",
       "      <th>OCC_MONTH</th>\n",
       "      <th>MCI_CATEGORY</th>\n",
       "    </tr>\n",
       "  </thead>\n",
       "  <tbody>\n",
       "    <tr>\n",
       "      <th>343</th>\n",
       "      <td>January</td>\n",
       "      <td>Break and Enter</td>\n",
       "    </tr>\n",
       "    <tr>\n",
       "      <th>376</th>\n",
       "      <td>January</td>\n",
       "      <td>Break and Enter</td>\n",
       "    </tr>\n",
       "    <tr>\n",
       "      <th>601</th>\n",
       "      <td>January</td>\n",
       "      <td>Break and Enter</td>\n",
       "    </tr>\n",
       "    <tr>\n",
       "      <th>643</th>\n",
       "      <td>January</td>\n",
       "      <td>Break and Enter</td>\n",
       "    </tr>\n",
       "    <tr>\n",
       "      <th>879</th>\n",
       "      <td>January</td>\n",
       "      <td>Break and Enter</td>\n",
       "    </tr>\n",
       "    <tr>\n",
       "      <th>...</th>\n",
       "      <td>...</td>\n",
       "      <td>...</td>\n",
       "    </tr>\n",
       "    <tr>\n",
       "      <th>33161</th>\n",
       "      <td>December</td>\n",
       "      <td>Break and Enter</td>\n",
       "    </tr>\n",
       "    <tr>\n",
       "      <th>33205</th>\n",
       "      <td>December</td>\n",
       "      <td>Break and Enter</td>\n",
       "    </tr>\n",
       "    <tr>\n",
       "      <th>33229</th>\n",
       "      <td>December</td>\n",
       "      <td>Break and Enter</td>\n",
       "    </tr>\n",
       "    <tr>\n",
       "      <th>33639</th>\n",
       "      <td>December</td>\n",
       "      <td>Break and Enter</td>\n",
       "    </tr>\n",
       "    <tr>\n",
       "      <th>34183</th>\n",
       "      <td>September</td>\n",
       "      <td>Break and Enter</td>\n",
       "    </tr>\n",
       "  </tbody>\n",
       "</table>\n",
       "<p>170 rows × 2 columns</p>\n",
       "</div>"
      ],
      "text/plain": [
       "       OCC_MONTH     MCI_CATEGORY\n",
       "343      January  Break and Enter\n",
       "376      January  Break and Enter\n",
       "601      January  Break and Enter\n",
       "643      January  Break and Enter\n",
       "879      January  Break and Enter\n",
       "...          ...              ...\n",
       "33161   December  Break and Enter\n",
       "33205   December  Break and Enter\n",
       "33229   December  Break and Enter\n",
       "33639   December  Break and Enter\n",
       "34183  September  Break and Enter\n",
       "\n",
       "[170 rows x 2 columns]"
      ]
     },
     "execution_count": 194,
     "metadata": {},
     "output_type": "execute_result"
    }
   ],
   "source": [
    "#Separate the rows for MCI_CATEGORY auto theft and break & enter into their own dataframes \n",
    "whc_auto_theft = whc_hood.loc[whc_hood['MCI_CATEGORY'] == 'Auto Theft']\n",
    "whc_break_enter = whc_hood.loc[whc_hood['MCI_CATEGORY'] == 'Break and Enter']\n",
    "\n",
    "#Reduce columns to only those needed ('OCC_MONTH' and 'MCI_CATEGORY')\n",
    "whc_auto_theft = whc_auto_theft[['OCC_MONTH', 'MCI_CATEGORY']]\n",
    "whc_break_enter = whc_break_enter[['OCC_MONTH', 'MCI_CATEGORY']]"
   ]
  },
  {
   "cell_type": "code",
   "execution_count": 195,
   "id": "38d656cb",
   "metadata": {},
   "outputs": [
    {
     "name": "stdout",
     "output_type": "stream",
     "text": [
      "whc_auto_theft is 436 records long. whc_break_enter is 170 records long. The difference is 266.\n"
     ]
    }
   ],
   "source": [
    "#Check the length of the new dataframes as they need to be the same length in order to compare them in a scatter plot\n",
    "whc_auto_theft_len = len(whc_auto_theft)\n",
    "whc_break_enter_len = len(whc_break_enter)        \n",
    "len_difference = whc_auto_theft_len - whc_break_enter_len\n",
    "print(f\"whc_auto_theft is {whc_auto_theft_len} records long. whc_break_enter is {whc_break_enter_len} records long. The difference is {len_difference}.\")"
   ]
  },
  {
   "cell_type": "code",
   "execution_count": 196,
   "id": "df5fe399",
   "metadata": {},
   "outputs": [],
   "source": [
    "#Code in above cell confirms that whc_auto_theft is longer than whc_assault\n",
    "\n",
    "#Get a sample of whc_auto_theft that is the same length as whc_assault (170)\n",
    "whc_auto_theft_spl2 = whc_auto_theft.sample(170)\n",
    "\n",
    "#Order months in chronological order for both dataframes using pd.Categorical\n",
    "months = [\"January\", \"February\", \"March\", \"April\", \"May\", \"June\", \"July\", \"August\", \"September\", \"October\", \"November\", \"December\"]\n",
    "whc_auto_theft_spl2['OCC_MONTH'] = pd.Categorical(whc_auto_theft_spl2['OCC_MONTH'], categories = months, ordered = True)\n",
    "whc_break_enter['OCC_MONTH'] = pd.Categorical(whc_break_enter['OCC_MONTH'], categories = months, ordered = True)"
   ]
  },
  {
   "cell_type": "code",
   "execution_count": 197,
   "id": "7734c167",
   "metadata": {},
   "outputs": [],
   "source": [
    "#Sort dataframes by offence month\n",
    "whc_auto_theft_spl2 = whc_auto_theft_spl2.sort_values(by = 'OCC_MONTH')\n",
    "whc_break_enter = whc_break_enter.sort_values(by = 'OCC_MONTH')"
   ]
  },
  {
   "cell_type": "code",
   "execution_count": 199,
   "id": "b2ce8f2f",
   "metadata": {},
   "outputs": [
    {
     "data": {
      "image/png": "[encoded data removed]",
      "text/plain": [
       "<Figure size 640x480 with 1 Axes>"
      ]
     },
     "metadata": {},
     "output_type": "display_data"
    }
   ],
   "source": [
    "#Set x and y values for 2 scatter plots\n",
    "#Both plots will share the same x axis values (months of the year) with their respective y values for the value counts of the MCI categories\n",
    "x_values = months\n",
    "whc_auto_y_values = whc_auto_theft_spl2.groupby('OCC_MONTH')['MCI_CATEGORY'].value_counts()\n",
    "whc_be_y_values = whc_break_enter.groupby('OCC_MONTH')['MCI_CATEGORY'].value_counts()\n",
    "\n",
    "#Create scatter plots for both categories\n",
    "#Set labels for legend\n",
    "labels = ['Auto Theft', 'Break & Enter']\n",
    "#Scatter plot for auto theft\n",
    "plt.scatter(x_values, whc_auto_y_values, color = 'r')\n",
    "#Scatter plot for assault\n",
    "plt.scatter(x_values, whc_be_y_values, color = 'b')\n",
    "#Set plot title, axis labels, legend, and x ticks\n",
    "plt.title('Auto Theft and Break & Enter in West Humber-Clairville')\n",
    "plt.xlabel('Months')\n",
    "plt.ylabel('Counts')\n",
    "plt.legend(labels = labels)\n",
    "plt.xticks(rotation = 45)\n",
    "plt.show()"
   ]
  },
  {
   "cell_type": "code",
   "execution_count": 202,
   "id": "27bc2e87",
   "metadata": {},
   "outputs": [
    {
     "name": "stdout",
     "output_type": "stream",
     "text": [
      "The r-squared is: 0.2099667322968294\n"
     ]
    },
    {
     "data": {
      "image/png": "[encoded data removed]",
      "text/plain": [
       "<Figure size 640x480 with 1 Axes>"
      ]
     },
     "metadata": {},
     "output_type": "display_data"
    }
   ],
   "source": [
    "#Calculate the linear regression and correlation coefficient for both categories\n",
    "\n",
    "#Linear regression and line equation\n",
    "(slope, intercept, rvalue, pvalue, stderr) = linregress(whc_be_y_values, whc_auto_y_values)\n",
    "regress_values = whc_be_y_values * slope + intercept\n",
    "line_eq = \"y = \" + str(round(slope,2)) + \"x + \" + str(round(intercept,2))\n",
    "\n",
    "#Scatter plot for assault vs auto theft\n",
    "plt.scatter(whc_be_y_values, whc_auto_y_values, color = 'b')\n",
    "#Line plot for linear regression\n",
    "plt.plot(whc_be_y_values,regress_values,\"r-\")\n",
    "#Annotate plot to show line equation\n",
    "plt.annotate(line_eq,(20,18),fontsize=10,color=\"red\")\n",
    "#Set plot title and axis labels\n",
    "plt.ylabel('Auto Theft')\n",
    "plt.xlabel('Break & Enter')\n",
    "plt.title('Auto Theft vs Break & Enter in West Humber-Clairville')\n",
    "#Print correlation coefficient (r-value squared)\n",
    "print(f\"The r-squared is: {rvalue**2}\")\n",
    "plt.show()"
   ]
  },
  {
   "cell_type": "markdown",
   "id": "996f178a",
   "metadata": {},
   "source": [
    "Results: The correlation coefficient of auto theft vs break & enter in West Humber-Clairville is 0.209 which indicates that there is no correlation between the two types of offences."
   ]
  }
 ],
 "metadata": {
  "kernelspec": {
   "display_name": "Conda env",
   "language": "python",
   "name": "devenv"
  },
  "language_info": {
   "codemirror_mode": {
    "name": "ipython",
    "version": 3
   },
   "file_extension": ".py",
   "mimetype": "text/x-python",
   "name": "python",
   "nbconvert_exporter": "python",
   "pygments_lexer": "ipython3",
   "version": "3.10.12"
  }
 },
 "nbformat": 4,
 "nbformat_minor": 5
}
