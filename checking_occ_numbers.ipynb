{
 "cells": [
  {
   "cell_type": "markdown",
   "metadata": {},
   "source": [
    "# Checking occurrance numbers\n",
    "\n",
    "Becuase occurrance ids might have several rows of associated data, we are checking how often this happens."
   ]
  },
  {
   "cell_type": "code",
   "execution_count": 1,
   "metadata": {},
   "outputs": [],
   "source": [
    "# Dependencies\n",
    "import pandas as pd\n",
    "from pathlib import Path"
   ]
  },
  {
   "cell_type": "code",
   "execution_count": 2,
   "metadata": {},
   "outputs": [
    {
     "name": "stdout",
     "output_type": "stream",
     "text": [
      "After reading in 37490 rows of data from year 2018, the total number of rows is: 37490\n",
      "After reading in 35065 rows of data from year 2020, the total number of rows is: 72555\n",
      "After reading in 40226 rows of data from year 2022, the total number of rows is: 112781\n"
     ]
    }
   ],
   "source": [
    "# Read in datasets and merge them into a single df\n",
    "# Create empty df to store data\n",
    "df = pd.DataFrame()\n",
    "# Loop through years\n",
    "for year in ['2018', '2020', '2022']:\n",
    "    # Read in year data\n",
    "    year_data = pd.read_csv(Path('resources', ('mci_' + year + '.csv')))\n",
    "    # concatenate with general df\n",
    "    df = pd.concat([df, year_data])\n",
    "    # Log number of rows for this year and total in general df\n",
    "    print(f\"After reading in {len(year_data)} rows of data from year {year}, the total number of rows is: {len(df)}\")"
   ]
  },
  {
   "cell_type": "code",
   "execution_count": 3,
   "metadata": {},
   "outputs": [
    {
     "data": {
      "text/html": [
       "<div>\n",
       "<style scoped>\n",
       "    .dataframe tbody tr th:only-of-type {\n",
       "        vertical-align: middle;\n",
       "    }\n",
       "\n",
       "    .dataframe tbody tr th {\n",
       "        vertical-align: top;\n",
       "    }\n",
       "\n",
       "    .dataframe thead th {\n",
       "        text-align: right;\n",
       "    }\n",
       "</style>\n",
       "<table border=\"1\" class=\"dataframe\">\n",
       "  <thead>\n",
       "    <tr style=\"text-align: right;\">\n",
       "      <th></th>\n",
       "      <th>_id</th>\n",
       "      <th>EVENT_UNIQUE_ID</th>\n",
       "      <th>REPORT_DATE</th>\n",
       "      <th>OCC_DATE</th>\n",
       "      <th>REPORT_YEAR</th>\n",
       "      <th>REPORT_MONTH</th>\n",
       "      <th>REPORT_DAY</th>\n",
       "      <th>REPORT_DOY</th>\n",
       "      <th>REPORT_DOW</th>\n",
       "      <th>REPORT_HOUR</th>\n",
       "      <th>...</th>\n",
       "      <th>LOCATION_TYPE</th>\n",
       "      <th>PREMISES_TYPE</th>\n",
       "      <th>UCR_CODE</th>\n",
       "      <th>UCR_EXT</th>\n",
       "      <th>OFFENCE</th>\n",
       "      <th>MCI_CATEGORY</th>\n",
       "      <th>HOOD_158</th>\n",
       "      <th>NEIGHBOURHOOD_158</th>\n",
       "      <th>HOOD_140</th>\n",
       "      <th>NEIGHBOURHOOD_140</th>\n",
       "    </tr>\n",
       "  </thead>\n",
       "  <tbody>\n",
       "    <tr>\n",
       "      <th>0</th>\n",
       "      <td>134022</td>\n",
       "      <td>GO-20181532</td>\n",
       "      <td>2018-01-01</td>\n",
       "      <td>2018-01-01</td>\n",
       "      <td>2018</td>\n",
       "      <td>January</td>\n",
       "      <td>1</td>\n",
       "      <td>1</td>\n",
       "      <td>Monday</td>\n",
       "      <td>4.0</td>\n",
       "      <td>...</td>\n",
       "      <td>Other Commercial / Corporate Places (For Profi...</td>\n",
       "      <td>Commercial</td>\n",
       "      <td>1430</td>\n",
       "      <td>100</td>\n",
       "      <td>Assault</td>\n",
       "      <td>Assault</td>\n",
       "      <td>168</td>\n",
       "      <td>Downtown Yonge East</td>\n",
       "      <td>75</td>\n",
       "      <td>Church-Yonge Corridor (75)</td>\n",
       "    </tr>\n",
       "    <tr>\n",
       "      <th>1</th>\n",
       "      <td>134023</td>\n",
       "      <td>GO-20184352</td>\n",
       "      <td>2018-01-01</td>\n",
       "      <td>2018-01-01</td>\n",
       "      <td>2018</td>\n",
       "      <td>January</td>\n",
       "      <td>1</td>\n",
       "      <td>1</td>\n",
       "      <td>Monday</td>\n",
       "      <td>18.0</td>\n",
       "      <td>...</td>\n",
       "      <td>Apartment (Rooming House, Condo)</td>\n",
       "      <td>Apartment</td>\n",
       "      <td>1430</td>\n",
       "      <td>100</td>\n",
       "      <td>Assault</td>\n",
       "      <td>Assault</td>\n",
       "      <td>150</td>\n",
       "      <td>Fenside-Parkwoods</td>\n",
       "      <td>45</td>\n",
       "      <td>Parkwoods-Donalda (45)</td>\n",
       "    </tr>\n",
       "    <tr>\n",
       "      <th>2</th>\n",
       "      <td>134024</td>\n",
       "      <td>GO-20184878</td>\n",
       "      <td>2018-01-01</td>\n",
       "      <td>2018-01-01</td>\n",
       "      <td>2018</td>\n",
       "      <td>January</td>\n",
       "      <td>1</td>\n",
       "      <td>1</td>\n",
       "      <td>Monday</td>\n",
       "      <td>21.0</td>\n",
       "      <td>...</td>\n",
       "      <td>Apartment (Rooming House, Condo)</td>\n",
       "      <td>Apartment</td>\n",
       "      <td>1420</td>\n",
       "      <td>100</td>\n",
       "      <td>Assault With Weapon</td>\n",
       "      <td>Assault</td>\n",
       "      <td>106</td>\n",
       "      <td>Humewood-Cedarvale</td>\n",
       "      <td>106</td>\n",
       "      <td>Humewood-Cedarvale (106)</td>\n",
       "    </tr>\n",
       "    <tr>\n",
       "      <th>3</th>\n",
       "      <td>134025</td>\n",
       "      <td>GO-20183609</td>\n",
       "      <td>2018-01-01</td>\n",
       "      <td>2018-01-01</td>\n",
       "      <td>2018</td>\n",
       "      <td>January</td>\n",
       "      <td>1</td>\n",
       "      <td>1</td>\n",
       "      <td>Monday</td>\n",
       "      <td>15.0</td>\n",
       "      <td>...</td>\n",
       "      <td>Streets, Roads, Highways (Bicycle Path, Privat...</td>\n",
       "      <td>Outside</td>\n",
       "      <td>2130</td>\n",
       "      <td>210</td>\n",
       "      <td>Theft Over</td>\n",
       "      <td>Theft Over</td>\n",
       "      <td>95</td>\n",
       "      <td>Annex</td>\n",
       "      <td>95</td>\n",
       "      <td>Annex (95)</td>\n",
       "    </tr>\n",
       "    <tr>\n",
       "      <th>4</th>\n",
       "      <td>134026</td>\n",
       "      <td>GO-20184674</td>\n",
       "      <td>2018-01-01</td>\n",
       "      <td>2018-01-01</td>\n",
       "      <td>2018</td>\n",
       "      <td>January</td>\n",
       "      <td>1</td>\n",
       "      <td>1</td>\n",
       "      <td>Monday</td>\n",
       "      <td>20.0</td>\n",
       "      <td>...</td>\n",
       "      <td>Convenience Stores</td>\n",
       "      <td>Commercial</td>\n",
       "      <td>1610</td>\n",
       "      <td>210</td>\n",
       "      <td>Robbery - Business</td>\n",
       "      <td>Robbery</td>\n",
       "      <td>123</td>\n",
       "      <td>Cliffcrest</td>\n",
       "      <td>123</td>\n",
       "      <td>Cliffcrest (123)</td>\n",
       "    </tr>\n",
       "  </tbody>\n",
       "</table>\n",
       "<p>5 rows × 27 columns</p>\n",
       "</div>"
      ],
      "text/plain": [
       "      _id EVENT_UNIQUE_ID REPORT_DATE    OCC_DATE  REPORT_YEAR REPORT_MONTH  \\\n",
       "0  134022     GO-20181532  2018-01-01  2018-01-01         2018      January   \n",
       "1  134023     GO-20184352  2018-01-01  2018-01-01         2018      January   \n",
       "2  134024     GO-20184878  2018-01-01  2018-01-01         2018      January   \n",
       "3  134025     GO-20183609  2018-01-01  2018-01-01         2018      January   \n",
       "4  134026     GO-20184674  2018-01-01  2018-01-01         2018      January   \n",
       "\n",
       "   REPORT_DAY  REPORT_DOY  REPORT_DOW  REPORT_HOUR  ...  \\\n",
       "0           1           1  Monday              4.0  ...   \n",
       "1           1           1  Monday             18.0  ...   \n",
       "2           1           1  Monday             21.0  ...   \n",
       "3           1           1  Monday             15.0  ...   \n",
       "4           1           1  Monday             20.0  ...   \n",
       "\n",
       "                                       LOCATION_TYPE PREMISES_TYPE  UCR_CODE  \\\n",
       "0  Other Commercial / Corporate Places (For Profi...    Commercial      1430   \n",
       "1                   Apartment (Rooming House, Condo)     Apartment      1430   \n",
       "2                   Apartment (Rooming House, Condo)     Apartment      1420   \n",
       "3  Streets, Roads, Highways (Bicycle Path, Privat...       Outside      2130   \n",
       "4                                 Convenience Stores    Commercial      1610   \n",
       "\n",
       "   UCR_EXT              OFFENCE  MCI_CATEGORY HOOD_158    NEIGHBOURHOOD_158  \\\n",
       "0      100              Assault       Assault      168  Downtown Yonge East   \n",
       "1      100              Assault       Assault      150    Fenside-Parkwoods   \n",
       "2      100  Assault With Weapon       Assault      106   Humewood-Cedarvale   \n",
       "3      210           Theft Over    Theft Over       95                Annex   \n",
       "4      210   Robbery - Business       Robbery      123           Cliffcrest   \n",
       "\n",
       "  HOOD_140           NEIGHBOURHOOD_140  \n",
       "0       75  Church-Yonge Corridor (75)  \n",
       "1       45      Parkwoods-Donalda (45)  \n",
       "2      106    Humewood-Cedarvale (106)  \n",
       "3       95                  Annex (95)  \n",
       "4      123            Cliffcrest (123)  \n",
       "\n",
       "[5 rows x 27 columns]"
      ]
     },
     "execution_count": 3,
     "metadata": {},
     "output_type": "execute_result"
    }
   ],
   "source": [
    "df.head()"
   ]
  },
  {
   "cell_type": "code",
   "execution_count": 25,
   "metadata": {},
   "outputs": [],
   "source": [
    "occ_count = df[['EVENT_UNIQUE_ID']].value_counts(ascending=False)\n",
    "\n",
    "n_repeats = len(occ_count.loc[occ_count>1])"
   ]
  },
  {
   "cell_type": "code",
   "execution_count": 26,
   "metadata": {},
   "outputs": [
    {
     "data": {
      "text/plain": [
       "EVENT_UNIQUE_ID  OFFENCE                      \n",
       "GO-20222426282   Theft Of Motor Vehicle           20\n",
       "GO-20222160871   Robbery With Weapon              12\n",
       "GO-20201148574   Theft Of Motor Vehicle           11\n",
       "GO-20182281596   Assault                          10\n",
       "GO-2018778601    Assault                          10\n",
       "GO-20201296123   Theft Of Motor Vehicle           10\n",
       "GO-20222227053   Assault Peace Officer Wpn/Cbh     9\n",
       "GO-20201494819   Assault With Weapon               9\n",
       "GO-2022248788    B&E                               9\n",
       "GO-20201641497   Theft Of Motor Vehicle            8\n",
       "GO-20201810011   Discharge Firearm With Intent     8\n",
       "GO-20221126212   Assault                           8\n",
       "GO-20181809539   Assault                           8\n",
       "GO-2022322288    Robbery - Business                8\n",
       "GO-20201630856   Assault Peace Officer             8\n",
       "GO-20221044736   Assault With Weapon               8\n",
       "GO-2018752060    Assault Peace Officer             8\n",
       "GO-2020403614    Assault                           8\n",
       "GO-2020575517    Robbery With Weapon               7\n",
       "GO-20221224523   Robbery With Weapon               7\n",
       "dtype: int64"
      ]
     },
     "execution_count": 26,
     "metadata": {},
     "output_type": "execute_result"
    }
   ],
   "source": [
    "# Count rows for each event\n",
    "occ_count_offence = df[['EVENT_UNIQUE_ID', 'OFFENCE']].value_counts(ascending=False)\n",
    "\n",
    "occ_count_offence.head(20)\n"
   ]
  },
  {
   "cell_type": "code",
   "execution_count": 28,
   "metadata": {},
   "outputs": [
    {
     "data": {
      "text/plain": [
       "4252"
      ]
     },
     "execution_count": 28,
     "metadata": {},
     "output_type": "execute_result"
    }
   ],
   "source": [
    "# Count how many events have more than 1 row\n",
    "n_repeats_offence = len(occ_count_offence.loc[occ_count_offence>1])\n",
    "\n",
    "n_repeats - n_repeats_offence"
   ]
  },
  {
   "cell_type": "markdown",
   "metadata": {},
   "source": [
    "Conclusion: We decided to drop the rows where the same offence was reported as part of the same event, and keep the events that have different offences as separate.\n",
    "\n",
    "Method: We will drop duplicate rows from the dataset, since events that have different offences won't be dropped."
   ]
  },
  {
   "cell_type": "code",
   "execution_count": 30,
   "metadata": {},
   "outputs": [
    {
     "data": {
      "text/plain": [
       "EVENT_UNIQUE_ID  OFFENCE                       \n",
       "GO-20181000120   Assault - Resist/ Prevent Seiz    1\n",
       "GO-20221166225   B&E W'Intent                      1\n",
       "GO-20221166777   Assault Bodily Harm               1\n",
       "GO-20221166766   Assault                           1\n",
       "GO-20221166695   Theft Over                        1\n",
       "                                                  ..\n",
       "GO-2020102257    Robbery - Mugging                 1\n",
       "GO-20201022550   Assault Bodily Harm               1\n",
       "GO-20201022513   Theft Over                        1\n",
       "GO-2020102247    Theft Of Motor Vehicle            1\n",
       "GO-2022999907    Assault                           1\n",
       "Length: 104454, dtype: int64"
      ]
     },
     "execution_count": 30,
     "metadata": {},
     "output_type": "execute_result"
    }
   ],
   "source": [
    "no_duplicates_df = df.drop_duplicates(['EVENT_UNIQUE_ID', 'OFFENCE'])\n",
    "\n",
    "# confirm that there are no duplicates of the same event and offence\n",
    "no_duplicates_df[['EVENT_UNIQUE_ID', 'OFFENCE']].value_counts(ascending=False)\n"
   ]
  },
  {
   "cell_type": "code",
   "execution_count": 32,
   "metadata": {},
   "outputs": [],
   "source": [
    "no_duplicates_df.to_csv(Path('resources', 'mci_no_duplicates_2018_20_22.csv'), index = False)"
   ]
  }
 ],
 "metadata": {
  "kernelspec": {
   "display_name": "dev",
   "language": "python",
   "name": "python3"
  },
  "language_info": {
   "codemirror_mode": {
    "name": "ipython",
    "version": 3
   },
   "file_extension": ".py",
   "mimetype": "text/x-python",
   "name": "python",
   "nbconvert_exporter": "python",
   "pygments_lexer": "ipython3",
   "version": "3.10.12"
  },
  "orig_nbformat": 4
 },
 "nbformat": 4,
 "nbformat_minor": 2
}
