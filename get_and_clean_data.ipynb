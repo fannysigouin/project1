{
 "cells": [
  {
   "cell_type": "markdown",
   "id": "bb0a3432",
   "metadata": {},
   "source": [
    "# Getting and cleaning data\n",
    "\n",
    "For the project, we retrive the dataset using the api for the open data of the City of Toronto. We clean duplicate identical rows that represent the same event and offence. Then, we examine the yearly counts and filter out old years with insufficient data. Finally, we save the dataset as a csv to be used in the analysis."
   ]
  },
  {
   "cell_type": "code",
   "execution_count": 2,
   "id": "ec9a6476",
   "metadata": {},
   "outputs": [],
   "source": [
    "# Dependencies\n",
    "import pandas as pd\n",
    "import requests\n",
    "from pprint import pprint"
   ]
  },
  {
   "cell_type": "markdown",
   "id": "f6a1c084",
   "metadata": {},
   "source": [
    "## Get data using API\n",
    "\n",
    "The City of Toronto Open Data API has an upper limit for the number of records that we can get with each request. Therefore, we adapted an algorithm to retrieve the whole dataset using the limit and offset parameters (found in [this source](https://support.smartbear.com/qacomplete/docs/developer/api/rest/api/reference/paging.html)).\n",
    "\n",
    "Based on the documentation for the API and dataset, we set the url for our requests.\n",
    "\n",
    "We then get the dataset metadata to find the total number of records. We do this by setting the limit parameter to 0 so we only retrieve the metadata."
   ]
  },
  {
   "cell_type": "code",
   "execution_count": 3,
   "id": "ec2dd700",
   "metadata": {},
   "outputs": [
    {
     "name": "stdout",
     "output_type": "stream",
     "text": [
      "{'help': 'https://ckan0.cf.opendata.inter.prod-toronto.ca/api/3/action/help_show?name=datastore_search',\n",
      " 'result': {'_links': {'next': '/api/3/action/datastore_search?id=af452875-cfdd-4596-a08a-7b93b65ea4f0&limit=0&offset=0',\n",
      "                       'start': '/api/3/action/datastore_search?id=af452875-cfdd-4596-a08a-7b93b65ea4f0&limit=0'},\n",
      "            'fields': [{'id': '_id', 'type': 'int'},\n",
      "                       {'id': 'EVENT_UNIQUE_ID',\n",
      "                        'info': {'notes': 'Offence Number'},\n",
      "                        'type': 'text'},\n",
      "                       {'id': 'REPORT_DATE',\n",
      "                        'info': {'notes': 'Date Offence was Reported'},\n",
      "                        'type': 'date'},\n",
      "                       {'id': 'OCC_DATE',\n",
      "                        'info': {'notes': 'Date of Offence'},\n",
      "                        'type': 'date'},\n",
      "                       {'id': 'REPORT_YEAR',\n",
      "                        'info': {'notes': 'Year Offence was Reported'},\n",
      "                        'type': 'float8'},\n",
      "                       {'id': 'REPORT_MONTH',\n",
      "                        'info': {'notes': 'Month Offence was Reported'},\n",
      "                        'type': 'text'},\n",
      "                       {'id': 'REPORT_DAY',\n",
      "                        'info': {'notes': 'Day of the Month Offence was '\n",
      "                                          'Reported'},\n",
      "                        'type': 'float8'},\n",
      "                       {'id': 'REPORT_DOY',\n",
      "                        'info': {'notes': 'Day of the Year Offence was '\n",
      "                                          'Reported'},\n",
      "                        'type': 'float8'},\n",
      "                       {'id': 'REPORT_DOW',\n",
      "                        'info': {'notes': 'Day of the Week Offence was '\n",
      "                                          'Reported'},\n",
      "                        'type': 'text'},\n",
      "                       {'id': 'REPORT_HOUR',\n",
      "                        'info': {'notes': 'Hour Offence was Reported'},\n",
      "                        'type': 'float8'},\n",
      "                       {'id': 'OCC_YEAR',\n",
      "                        'info': {'notes': 'Year Offence Occurred'},\n",
      "                        'type': 'float8'},\n",
      "                       {'id': 'OCC_MONTH',\n",
      "                        'info': {'notes': 'Month Offence Occurred'},\n",
      "                        'type': 'text'},\n",
      "                       {'id': 'OCC_DAY',\n",
      "                        'info': {'notes': 'Day of the Month Offence Occurred'},\n",
      "                        'type': 'float8'},\n",
      "                       {'id': 'OCC_DOY',\n",
      "                        'info': {'notes': 'Day of the Year Offence Occurred'},\n",
      "                        'type': 'float8'},\n",
      "                       {'id': 'OCC_DOW',\n",
      "                        'info': {'notes': 'Day of the Week Offence Occurred'},\n",
      "                        'type': 'text'},\n",
      "                       {'id': 'OCC_HOUR',\n",
      "                        'info': {'notes': 'Hour Offence Occurred'},\n",
      "                        'type': 'float8'},\n",
      "                       {'id': 'DIVISION',\n",
      "                        'info': {'notes': 'Police Division where Offence '\n",
      "                                          'Occurred'},\n",
      "                        'type': 'text'},\n",
      "                       {'id': 'LOCATION_TYPE',\n",
      "                        'info': {'notes': 'Location Type of Offence'},\n",
      "                        'type': 'text'},\n",
      "                       {'id': 'PREMISES_TYPE',\n",
      "                        'info': {'notes': 'Premises Type of Offence'},\n",
      "                        'type': 'text'},\n",
      "                       {'id': 'UCR_CODE',\n",
      "                        'info': {'notes': 'UCR Code for Offence'},\n",
      "                        'type': 'float8'},\n",
      "                       {'id': 'UCR_EXT',\n",
      "                        'info': {'notes': 'UCR Extension for Offence'},\n",
      "                        'type': 'float8'},\n",
      "                       {'id': 'OFFENCE',\n",
      "                        'info': {'notes': 'Title of Offence'},\n",
      "                        'type': 'text'},\n",
      "                       {'id': 'MCI_CATEGORY',\n",
      "                        'info': {'notes': 'MCI Category of Occurrence'},\n",
      "                        'type': 'text'},\n",
      "                       {'id': 'HOOD_158',\n",
      "                        'info': {'notes': 'Identifier of Neighbourhood using '\n",
      "                                          \"City of Toronto's new 158 \"\n",
      "                                          'neighbourhood structure'},\n",
      "                        'type': 'text'},\n",
      "                       {'id': 'NEIGHBOURHOOD_158',\n",
      "                        'info': {'notes': 'Name of Neighbourhood using City of '\n",
      "                                          \"Toronto's new 158 neighbourhood \"\n",
      "                                          'structure'},\n",
      "                        'type': 'text'},\n",
      "                       {'id': 'HOOD_140',\n",
      "                        'info': {'notes': 'Identifier of Neighbourhood using '\n",
      "                                          \"City of Toronto's old 140 \"\n",
      "                                          'neighbourhood structure'},\n",
      "                        'type': 'text'},\n",
      "                       {'id': 'NEIGHBOURHOOD_140',\n",
      "                        'info': {'notes': 'Name of Neighbourhood using City of '\n",
      "                                          \"Toronto's old 140 neighbourhood \"\n",
      "                                          'structure'},\n",
      "                        'type': 'text'}],\n",
      "            'include_total': True,\n",
      "            'limit': 0,\n",
      "            'records': [],\n",
      "            'records_format': 'objects',\n",
      "            'resource_id': 'af452875-cfdd-4596-a08a-7b93b65ea4f0',\n",
      "            'total': 323296,\n",
      "            'total_estimation_threshold': None,\n",
      "            'total_was_estimated': False},\n",
      " 'success': True}\n"
     ]
    }
   ],
   "source": [
    "# Base url for all toronto open data\n",
    "base_url = \"https://ckan0.cf.opendata.inter.prod-toronto.ca\"\n",
    "\n",
    "# Datasets are called \"packages\". Each package can contain many \"resources\"\n",
    "# To retrieve the metadata for this package and its resources, use the package name in this page's URL:\n",
    "url = base_url + \"/api/3/action/package_show\"\n",
    "p = {\"id\": \"major-crime-indicators\"}\n",
    "# get package resources\n",
    "package = requests.get(url, params = p).json()\n",
    "# Look at resources and find the one that is datastore_active\n",
    "for resource in package[\"result\"][\"resources\"]:\n",
    "    # once we find the datastore_active resource, get the id\n",
    "    if resource[\"datastore_active\"]:\n",
    "        resource_id = resource[\"id\"]\n",
    "# using that id and limit 0, get just the metadata first to find total items\n",
    "# based on this algorithm:\n",
    "# https://support.smartbear.com/qacomplete/docs/developer/api/rest/api/reference/paging.html\n",
    "limit = 0\n",
    "\n",
    "# build url for retrieve data\n",
    "url = base_url + \"/api/3/action/datastore_search\"\n",
    "# include resource id and limit in url parameters\n",
    "p = {\n",
    "    'id': resource_id,\n",
    "    'limit': limit\n",
    "}\n",
    "# get metadata, and pprint it to find total items\n",
    "metadata = requests.get(url, params = p).json()\n",
    "pprint(metadata)"
   ]
  },
  {
   "cell_type": "markdown",
   "id": "4e5720cd",
   "metadata": {},
   "source": [
    "Looking at the metadata, we find the total number of records within the item named 'result' and then 'total', so we save it to a variable. We also note that the actual data will be contained within the same 'result' item but in the subitem 'records'."
   ]
  },
  {
   "cell_type": "code",
   "execution_count": 5,
   "id": "4e36df0d",
   "metadata": {},
   "outputs": [
    {
     "data": {
      "text/plain": [
       "323296"
      ]
     },
     "execution_count": 5,
     "metadata": {},
     "output_type": "execute_result"
    }
   ],
   "source": [
    "# get total items from metadata\n",
    "total_items = metadata['result']['total']\n",
    "total_items"
   ]
  },
  {
   "cell_type": "markdown",
   "id": "95c825a6",
   "metadata": {},
   "source": [
    "We are now ready to make the requests to retrieve the data. We set the limit parameter to the maximum that can be retrieved each time, based on the documentation (i.e. 32000). The offset parameter, which sets the starting record to retrieve will start at 0, since we want to start with the first record and increase by the limit amount each time we make a request. Each request will extend a list that contains the data and add the records retrieved in that request. We will repeat the request until the offset parameter is above the total number we found in the metadata. Then, we create a pandas dataframe using the final data list. At the end, we compare the total number that we got initially to the number of rows in the dataframe, to make sure they are equal."
   ]
  },
  {
   "cell_type": "code",
   "execution_count": 6,
   "id": "f6f97d66",
   "metadata": {},
   "outputs": [
    {
     "name": "stdout",
     "output_type": "stream",
     "text": [
      "request #1 with parameters: {'id': 'af452875-cfdd-4596-a08a-7b93b65ea4f0', 'limit': 32000, 'offset': 0}\n",
      "request #2 with parameters: {'id': 'af452875-cfdd-4596-a08a-7b93b65ea4f0', 'limit': 32000, 'offset': 32000}\n",
      "request #3 with parameters: {'id': 'af452875-cfdd-4596-a08a-7b93b65ea4f0', 'limit': 32000, 'offset': 64000}\n",
      "request #4 with parameters: {'id': 'af452875-cfdd-4596-a08a-7b93b65ea4f0', 'limit': 32000, 'offset': 96000}\n",
      "request #5 with parameters: {'id': 'af452875-cfdd-4596-a08a-7b93b65ea4f0', 'limit': 32000, 'offset': 128000}\n",
      "request #6 with parameters: {'id': 'af452875-cfdd-4596-a08a-7b93b65ea4f0', 'limit': 32000, 'offset': 160000}\n",
      "request #7 with parameters: {'id': 'af452875-cfdd-4596-a08a-7b93b65ea4f0', 'limit': 32000, 'offset': 192000}\n",
      "request #8 with parameters: {'id': 'af452875-cfdd-4596-a08a-7b93b65ea4f0', 'limit': 32000, 'offset': 224000}\n",
      "request #9 with parameters: {'id': 'af452875-cfdd-4596-a08a-7b93b65ea4f0', 'limit': 32000, 'offset': 256000}\n",
      "request #10 with parameters: {'id': 'af452875-cfdd-4596-a08a-7b93b65ea4f0', 'limit': 32000, 'offset': 288000}\n",
      "request #11 with parameters: {'id': 'af452875-cfdd-4596-a08a-7b93b65ea4f0', 'limit': 32000, 'offset': 320000}\n",
      "\n",
      "The total items in dataset is 323296 and we got 323296.\n"
     ]
    }
   ],
   "source": [
    "# Update parameters to include both limit and offset\n",
    "# From documentation, we know the max limit is 32000\n",
    "# so we set, limit to that\n",
    "p['limit'] = 32000\n",
    "\n",
    "# offset will start at 0 and increase by 32000 each loop time\n",
    "p['offset'] = 0\n",
    "\n",
    "# create list to contain data\n",
    "data_list = []\n",
    "\n",
    "n = 1\n",
    "\n",
    "# While offset is under total_items\n",
    "while p['offset'] < total_items:\n",
    "    # log number of request and parameters to be used\n",
    "    print(f\"request #{n} with parameters: {p}\")\n",
    "    # get data that is inside 'result' and 'records'\n",
    "    data = requests.get(url, params = p).json()['result']['records']\n",
    "    # extend data list\n",
    "    data_list.extend(data)\n",
    "    # To finish loop section, increase offset by limit\n",
    "    p['offset'] += p['limit']\n",
    "    n += 1\n",
    "\n",
    "# Create dataframe with data\n",
    "df = pd.DataFrame(data_list)\n",
    "# print total length of dataframe, to confirm we got everything\n",
    "print(f\"\\nThe total items in dataset is {total_items} and we got {len(df)}.\")\n",
    "\n",
    "# Check head of dataframe\n",
    "df.head()\n"
   ]
  },
  {
   "cell_type": "markdown",
   "id": "030ed5cf",
   "metadata": {},
   "source": [
    "Finally, we write the dataframe"
   ]
  },
  {
   "cell_type": "code",
   "execution_count": 7,
   "id": "46f8e731",
   "metadata": {},
   "outputs": [],
   "source": [
    "# Write to csv\n",
    "df.to_csv('resources/mci_all.csv', header = True, index = False)\n"
   ]
  }
 ],
 "metadata": {
  "kernelspec": {
   "display_name": "dev",
   "language": "python",
   "name": "python3"
  },
  "language_info": {
   "codemirror_mode": {
    "name": "ipython",
    "version": 3
   },
   "file_extension": ".py",
   "mimetype": "text/x-python",
   "name": "python",
   "nbconvert_exporter": "python",
   "pygments_lexer": "ipython3",
   "version": "3.10.12"
  }
 },
 "nbformat": 4,
 "nbformat_minor": 5
}
